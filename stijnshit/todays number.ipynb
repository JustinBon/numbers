{
 "cells": [
  {
   "cell_type": "code",
   "execution_count": 11,
   "metadata": {},
   "outputs": [
    {
     "name": "stdout",
     "output_type": "stream",
     "text": [
      "C:\\Users\\Stijn\\Code\\todays number\n",
      "246\n"
     ]
    }
   ],
   "source": [
    "import os\n",
    "import shutil\n",
    "import datetime\n",
    "from PIL import Image\n",
    "import matplotlib.pyplot as plt\n",
    "import cv2\n",
    "import numpy as np\n",
    "\n",
    "PATH0 = os.getcwd()\n",
    "numbers= [\"ones\",\"twos\",\"threes\",\"fours\",\"fives\",\"sixes\",\"sevens\",\"eights\",\"nines\",\"tens\"]\n",
    "number = {1:\"one\",2:\"two\",3:\"three\",4:\"four\",5:\"five\",6:\"six\",7:\"seven\",8:\"eight\",9:\"nine\",10:\"10\"}\n",
    "startdate = datetime.date(2020,8,16)\n",
    "print(PATH0)\n",
    "with open(\"last checked.txt\") as f:\n",
    "    lastchecked = f.read()\n",
    "    print(lastchecked)"
   ]
  },
  {
   "cell_type": "code",
   "execution_count": 69,
   "metadata": {},
   "outputs": [],
   "source": [
    "#exceptions\n",
    "todaysnumbers=np.load('todaysnumbers.npy',allow_pickle=True).item()\n",
    "todaysnumbers[0]=8\n",
    "todaysnumbers[2]=9\n",
    "todaysnumbers[30]=9\n",
    "todaysnumbers[51]=6\n",
    "todaysnumbers[6]=9\n",
    "todaysnumbers[99]=9\n",
    "np.save('todaysnumbers', todaysnumbers)"
   ]
  },
  {
   "cell_type": "code",
   "execution_count": 55,
   "metadata": {},
   "outputs": [],
   "source": [
    "for n in numbers:\n",
    "    os.mkdir(PATH0+\"\\\\\"+n)\n",
    "    os.mkdir(PATH0+\"\\\\\"+n+\"\\\\frames\")"
   ]
  },
  {
   "cell_type": "code",
   "execution_count": 12,
   "metadata": {},
   "outputs": [],
   "source": [
    "def date2number(file):\n",
    "    date_name = [int(i) for i in file.split(' ')[-1].split('-')[0].split('_')]\n",
    "    date = datetime.date(date_name[2]+2000,date_name[0],date_name[1])\n",
    "    return str((date - startdate).days)\n",
    "\n",
    "def downloadnewvids():\n",
    "    with open(\"last checked.txt\") as f:\n",
    "        lastchecked = f.read()\n",
    "    os.system('newvid.bat '+lastchecked)\n",
    "    for file in os.listdir(PATH0+\"\\\\vids\"):\n",
    "        if int(date2number(file))+1 > int(lastchecked):\n",
    "            lastchecked = str(int(date2number(file))+1)\n",
    "    with open(\"last checked.txt\",\"w\") as f:\n",
    "        f.write(lastchecked)\n",
    "\n",
    "def findframes():\n",
    "    for file in os.listdir(PATH0+\"\\\\vids\"):\n",
    "        print(file)\n",
    "        count = 900\n",
    "        if date2number(file)+\"_frame.jpg\" not in os.listdir(PATH0+\"\\\\frames\"):\n",
    "            vidcap = cv2.VideoCapture(PATH0 + '\\\\vids\\\\' + file)\n",
    "            vidcap.set(cv2.CAP_PROP_POS_FRAMES,count)\n",
    "            success,image = vidcap.read()\n",
    "            color = image.mean()\n",
    "            while success:\n",
    "                if color > 10 and image.mean() < 1:\n",
    "                    breakpoint = count - 5\n",
    "                    vidcap.set(cv2.CAP_PROP_POS_FRAMES,breakpoint)\n",
    "                    success, image = vidcap.read()\n",
    "                    print(PATH0 + '\\\\frames\\\\' + date2number(file) +\"_frame.jpg\")\n",
    "                    cv2.imwrite(PATH0 + '\\\\frames\\\\' + date2number(file) +\"_frame.jpg\", image)\n",
    "                    break \n",
    "                color = image.mean()\n",
    "                success, image = vidcap.read()\n",
    "                count += 1\n",
    "            \n",
    "def findnumbers():\n",
    "    todaysnumbers=np.load('todaysnumbers.npy',allow_pickle=True).item()\n",
    "    for file in os.listdir(PATH0+\"\\\\subs\"):\n",
    "        with open(PATH0+\"\\\\subs\\\\\"+file) as f:\n",
    "            subs = f.read()[-200:-100]\n",
    "            found = False\n",
    "            for i in range(1,10):\n",
    "                n = number[i]\n",
    "                if subs.find(n) != -1:\n",
    "                    todaysnumber = i\n",
    "                    found = True\n",
    "            if found == False:\n",
    "                todaysnumber = 10\n",
    "        todaysnumbers[int(date2number(file))]=todaysnumber\n",
    "    np.save('todaysnumbers', todaysnumbers)\n",
    "    \n",
    "def moveframes():\n",
    "    todaysnumbers=np.load('todaysnumbers.npy',allow_pickle=True).item()\n",
    "    for file in os.listdir(PATH0+\"\\\\frames\"):\n",
    "        daynumb = int(file.split('_')[0])\n",
    "        todaysnumber = todaysnumbers[daynumb]\n",
    "        shutil.move(PATH0+\"\\\\frames\\\\\"+file, PATH0+\"\\\\\"+numbers[todaysnumber-1]+\"\\\\frames\\\\\"+file)"
   ]
  },
  {
   "cell_type": "code",
   "execution_count": 4,
   "metadata": {},
   "outputs": [
    {
     "data": {
      "text/plain": [
       "0"
      ]
     },
     "execution_count": 4,
     "metadata": {},
     "output_type": "execute_result"
    }
   ],
   "source": [
    "downloadnewvids()\n",
    "findframes()\n",
    "findnumbers()\n",
    "moveframes()\n",
    "os.system('cleanup.bat')"
   ]
  },
  {
   "cell_type": "code",
   "execution_count": 15,
   "metadata": {},
   "outputs": [
    {
     "name": "stdout",
     "output_type": "stream",
     "text": [
      "2020-09-05\n",
      "2020-09-24\n",
      "2020-09-28\n",
      "2020-10-04\n",
      "2020-10-07\n",
      "2020-10-18\n",
      "2020-10-21\n",
      "2020-10-30\n",
      "2020-11-10\n",
      "2020-11-18\n",
      "2020-11-21\n",
      "2020-11-26\n",
      "2020-12-03\n",
      "2020-12-13\n",
      "2020-12-26\n",
      "2021-01-04\n",
      "2021-01-08\n",
      "2021-01-14\n",
      "2021-01-16\n",
      "2021-01-26\n",
      "2021-01-27\n",
      "2021-02-02\n",
      "2021-02-04\n",
      "2021-02-10\n",
      "2021-02-24\n"
     ]
    }
   ],
   "source": [
    "l=[8, 3, 9, 5, 1, 2, 9, 10, 8, 8, 1, 9, 9, 8, 5, 1, 10, 5, 9, 6, 4, 10, 3, 10, 9, 8, 4, 8, 8, 9, 9, 1, 5, 9, 8, 4, 1, 8, 6, 7, 8, 5, 6, 10, 9, 1, 1, 5, 6, 2, 8, 6, 5, 2, 5, 4, 10, 10, 2, 2, 4, 9, 6, 9, 9, 6, 10, 9, 10, 8, 1, 10, 5, 8, 6, 8, 10, 4, 10, 9, 10, 7, 4, 7, 8, 6, 7, 3, 10, 3, 8, 3, 3, 6, 7, 2, 6, 9, 5, 9, 10, 6, 7, 10, 8, 5, 8, 1, 6, 8, 3, 7, 8, 5, 1, 9, 3, 2, 6, 7, 8, 3, 9, 1, 10, 1, 8, 4, 4, 9, 2, 6, 7, 10, 7, 8, 3, 9, 7, 3, 6, 10, 5, 1, 6, 10, 7, 8, 10, 5, 6, 8, 6, 9, 10, 2, 4, 9, 4, 3, 4, 10, 6, 6, 1, 7, 10, 3, 1, 6, 3, 6, 9, 7, 9, 7, 9, 6, 5, 10, 8, 7, 5, 9, 8, 5, 5, 4, 7, 7, 4, 6]\n",
    "t=datetime.date(2020,8,17)\n",
    "dates = []\n",
    "for x in l:\n",
    "    if x == 6:\n",
    "        print(t)\n",
    "        dates.append(str(t.month) + '_' + str(t.day) + '_' + str(t.year)[2:])\n",
    "    t=t+datetime.timedelta(days=1)"
   ]
  },
  {
   "cell_type": "code",
   "execution_count": 18,
   "metadata": {},
   "outputs": [],
   "source": [
    "lengths = []\n",
    "for file in os.listdir(PATH+\"\\\\vids\"):\n",
    "    vidcap = cv2.VideoCapture(PATH + '\\\\vids\\\\' + file)\n",
    "    length = int(vidcap.get(cv2.CAP_PROP_FRAME_COUNT))\n",
    "    lengths.append(length)"
   ]
  },
  {
   "cell_type": "code",
   "execution_count": 12,
   "metadata": {},
   "outputs": [
    {
     "name": "stdout",
     "output_type": "stream",
     "text": [
      "ones\n"
     ]
    },
    {
     "ename": "FileNotFoundError",
     "evalue": "[WinError 3] The system cannot find the path specified: 'C:\\\\Users\\\\Stijn\\\\Code\\\\todays number\\\\ones\\\\vids'",
     "output_type": "error",
     "traceback": [
      "\u001b[1;31m---------------------------------------------------------------------------\u001b[0m",
      "\u001b[1;31mFileNotFoundError\u001b[0m                         Traceback (most recent call last)",
      "\u001b[1;32m<ipython-input-12-262e6d105fd2>\u001b[0m in \u001b[0;36m<module>\u001b[1;34m\u001b[0m\n\u001b[0;32m      3\u001b[0m     \u001b[0mprint\u001b[0m\u001b[1;33m(\u001b[0m\u001b[0mn\u001b[0m\u001b[1;33m)\u001b[0m\u001b[1;33m\u001b[0m\u001b[1;33m\u001b[0m\u001b[0m\n\u001b[0;32m      4\u001b[0m     \u001b[0mi\u001b[0m \u001b[1;33m=\u001b[0m \u001b[1;36m1\u001b[0m\u001b[1;33m\u001b[0m\u001b[1;33m\u001b[0m\u001b[0m\n\u001b[1;32m----> 5\u001b[1;33m     \u001b[1;32mfor\u001b[0m \u001b[0mfile\u001b[0m \u001b[1;32min\u001b[0m \u001b[0mos\u001b[0m\u001b[1;33m.\u001b[0m\u001b[0mlistdir\u001b[0m\u001b[1;33m(\u001b[0m\u001b[0mPATH\u001b[0m\u001b[1;33m+\u001b[0m\u001b[1;34m\"\\\\vids\"\u001b[0m\u001b[1;33m)\u001b[0m\u001b[1;33m:\u001b[0m\u001b[1;33m\u001b[0m\u001b[1;33m\u001b[0m\u001b[0m\n\u001b[0m\u001b[0;32m      6\u001b[0m         \u001b[0mprint\u001b[0m\u001b[1;33m(\u001b[0m\u001b[0mfile\u001b[0m\u001b[1;33m)\u001b[0m\u001b[1;33m\u001b[0m\u001b[1;33m\u001b[0m\u001b[0m\n\u001b[0;32m      7\u001b[0m         \u001b[0mcount\u001b[0m \u001b[1;33m=\u001b[0m \u001b[1;36m900\u001b[0m\u001b[1;33m\u001b[0m\u001b[1;33m\u001b[0m\u001b[0m\n",
      "\u001b[1;31mFileNotFoundError\u001b[0m: [WinError 3] The system cannot find the path specified: 'C:\\\\Users\\\\Stijn\\\\Code\\\\todays number\\\\ones\\\\vids'"
     ]
    }
   ],
   "source": [
    "for n in numbers:\n",
    "    PATH = PATH0+\"\\\\\"+n\n",
    "    print(n)\n",
    "    i = 1\n",
    "    for file in os.listdir(PATH+\"\\\\vids\"):\n",
    "        print(file)\n",
    "        count = 900\n",
    "        vidcap = cv2.VideoCapture(PATH + '\\\\vids\\\\' + file)\n",
    "        vidcap.set(cv2.CAP_PROP_POS_FRAMES,count)\n",
    "        success,image = vidcap.read()\n",
    "        color = image.mean()\n",
    "        while success:\n",
    "            if color > 10 and image.mean() < 1:\n",
    "                breakpoint = count - 5\n",
    "                vidcap.set(cv2.CAP_PROP_POS_FRAMES,breakpoint)\n",
    "                success, image = vidcap.read()\n",
    "                cv2.imwrite(PATH + '\\\\frames\\\\' + file.split(' ')[-1][:-15]+ \"frame%d.jpg\" % breakpoint, image)\n",
    "                break \n",
    "            color = image.mean()\n",
    "            success, image = vidcap.read()\n",
    "            count += 1\n",
    "        i += 1\n",
    "    print(i)"
   ]
  },
  {
   "cell_type": "code",
   "execution_count": 24,
   "metadata": {},
   "outputs": [
    {
     "name": "stdout",
     "output_type": "stream",
     "text": [
      "TODAY'S NUMBER IS  9_13_20-sK7-zPvY9_Y.mkv\n",
      "TODAY'S NUMBER IS...   1_20_21-uOJvUNc17ZA.mp4\n",
      "TODAY'S NUMBER IS...   1_28_21--fkrW5j04XI.mp4\n",
      "TODAY'S NUMBER IS...   3_23_21-xRAm7SuqENE.mp4\n",
      "TODAY'S NUMBER IS...   3_25_21-E0-HBJeOkWE.mp4\n",
      "TODAY'S NUMBER IS...  10_10_20-xtcHGYixvr4.mkv\n",
      "TODAY'S NUMBER IS...  10_11_20-2507fr7w5ME.mkv\n",
      "TODAY'S NUMBER IS...  10_13_20-cNorjcXdSSw.mkv\n",
      "TODAY'S NUMBER IS...  10_15_20-sVM1Ga4GosI.mp4\n",
      "TODAY'S NUMBER IS...  10_16_20-hUDh4E8OFIQ.mkv\n",
      "TODAY'S NUMBER IS...  10_18_20-KrL2yCZLt3k.mkv\n",
      "TODAY'S NUMBER IS...  10_19_20-Fg3QIryu2nk.mkv\n",
      "TODAY'S NUMBER IS...  10_1_20-aLNpXSphBBc.mkv\n",
      "TODAY'S NUMBER IS...  10_21_20-dOuHzQruSHo.mkv\n",
      "TODAY'S NUMBER IS...  10_22_20-tLk-jOn4104.mp4\n",
      "TODAY'S NUMBER IS...  10_23_20-0HL1KWfjK6o.mp4\n",
      "TODAY'S NUMBER IS...  10_24_20-o5Ad_C-RBIo.mp4\n",
      "TODAY'S NUMBER IS...  10_25_20-0jmWtopFK00.mkv\n",
      "TODAY'S NUMBER IS...  10_26_20--mZQhbxe-LM.mkv\n",
      "TODAY'S NUMBER IS...  10_27_20-wGTwlLQ5OBU.mp4\n",
      "TODAY'S NUMBER IS...  10_28_20-Xx1LKLZl9Ec.mp4\n",
      "TODAY'S NUMBER IS...  10_29_20-wYj2C4Zlx0Y.mkv\n",
      "TODAY'S NUMBER IS...  10_2_20-QiudQskXP5Q.mkv\n",
      "TODAY'S NUMBER IS...  10_31_20-2Z6Jt9V83SI.mkv\n",
      "TODAY'S NUMBER IS...  10_4_20-MopJ-9Pu8sM.mkv\n",
      "TODAY'S NUMBER IS...  10_5_20-CiGywmZjbe8.mkv\n",
      "TODAY'S NUMBER IS...  10_6_20--O0UXfCX4g8.mkv\n",
      "TODAY'S NUMBER IS...  10_7_20-Ift8kx60uX0.mkv\n",
      "TODAY'S NUMBER IS...  10_8_20-AURQMyUQ40s.mkv\n",
      "TODAY'S NUMBER IS...  10_9_20-FEebyoRprvo.mkv\n",
      "TODAY'S NUMBER IS...  11_10_20-XpBh1wKFliY.mkv\n",
      "TODAY'S NUMBER IS...  11_11_20-mMhp44xCLkc.mkv\n",
      "TODAY'S NUMBER IS...  11_12_20-jp_AdSDN2fI.mkv\n",
      "TODAY'S NUMBER IS...  11_13_20-PrggoyGi_tY.mp4\n",
      "TODAY'S NUMBER IS...  11_14_20-ldx5LDjGHVk.mp4\n",
      "TODAY'S NUMBER IS...  11_15_20-1afNpsar-nU.mp4\n",
      "TODAY'S NUMBER IS...  11_16_20-kjh9Sg_lNmM.mp4\n",
      "TODAY'S NUMBER IS...  11_17_20-MVSozfQfLk4.mp4\n",
      "TODAY'S NUMBER IS...  11_18_20-Osy-Y0a5JBc.mp4\n",
      "TODAY'S NUMBER IS...  11_19_20-rA7ptzHZHcY.mp4\n",
      "TODAY'S NUMBER IS...  11_1_20-82-bLYDY_po.mkv\n",
      "TODAY'S NUMBER IS...  11_20_20-KhlIU-nEdlo.mp4\n",
      "TODAY'S NUMBER IS...  11_22_20-JUZDtgohBsw.mp4\n",
      "TODAY'S NUMBER IS...  11_23_20-n56eTika5Ok.mp4\n",
      "TODAY'S NUMBER IS...  11_25_20-Qi7M5vrc87s.mp4\n",
      "TODAY'S NUMBER IS...  11_26_20-E5bCqmBgxaM.mp4\n",
      "TODAY'S NUMBER IS...  11_27_20-w3MKnjRIOvg.mp4\n",
      "TODAY'S NUMBER IS...  11_28_20-OqgDJ7aF4Wc.mkv\n",
      "TODAY'S NUMBER IS...  11_29_20-hVioR2zkEFw.mp4\n",
      "TODAY'S NUMBER IS...  11_2_20-AeSM5--pqvo.mkv\n",
      "TODAY'S NUMBER IS...  11_30_20-_HYtQ7hQx9s.mp4\n",
      "TODAY'S NUMBER IS...  11_3_20-R_zVoLDxoHs.mkv\n",
      "TODAY'S NUMBER IS...  11_4_20-ZMvHleKKEnw.mkv\n",
      "TODAY'S NUMBER IS...  11_5_20-8XbMTElR5Mk.mp4\n",
      "TODAY'S NUMBER IS...  11_7_20-A57GVOD0cM0.mp4\n",
      "TODAY'S NUMBER IS...  11_8_20-_kfTypjLxbs.mkv\n",
      "TODAY'S NUMBER IS...  11_9_20-hA17ae2VDx4.mkv\n",
      "TODAY'S NUMBER IS...  12_11_20-EKIhYYyKUHE.mp4\n",
      "TODAY'S NUMBER IS...  12_12_20-MZy7Eb6sLg0.mp4\n",
      "TODAY'S NUMBER IS...  12_13_20-_pAeI9dRltA.mp4\n",
      "TODAY'S NUMBER IS...  12_14_20-u5C3kpd7Fm0.mp4\n",
      "TODAY'S NUMBER IS...  12_15_20-bkA8wdxEDxA.mp4\n",
      "TODAY'S NUMBER IS...  12_17_20-nBaGjs68Et0.mp4\n",
      "TODAY'S NUMBER IS...  12_18_20-eonhfU_5UnY.mp4\n",
      "TODAY'S NUMBER IS...  12_19_20-RMyM6XiBiAw.mp4\n",
      "TODAY'S NUMBER IS...  12_1_20-M1IiXHtaRYY.mp4\n",
      "TODAY'S NUMBER IS...  12_20_20-gbEUM35DSTY.mp4\n",
      "TODAY'S NUMBER IS...  12_21_20-S4ki47putuY.mp4\n",
      "TODAY'S NUMBER IS...  12_22_20-Z72DV4D7JaQ.mp4\n",
      "TODAY'S NUMBER IS...  12_23_20-inI9Bn3uyEc.mp4\n",
      "TODAY'S NUMBER IS...  12_24_20-919o_obqA20.mp4\n",
      "TODAY'S NUMBER IS...  12_25_20-Z1pn90pH8JU.mp4\n",
      "TODAY'S NUMBER IS...  12_26_20-_bSOmKNNq9g.mp4\n",
      "TODAY'S NUMBER IS...  12_27_20-gCvNfvNEKlo.mp4\n",
      "TODAY'S NUMBER IS...  12_28_20-3IMYHLtRvVU.mp4\n",
      "TODAY'S NUMBER IS...  12_29_20-AT8-mruwFNk.mp4\n",
      "TODAY'S NUMBER IS...  12_2_20-iXdMDCinPiI.mp4\n",
      "TODAY'S NUMBER IS...  12_30_20-FfQ8rha9_ZM.mp4\n",
      "TODAY'S NUMBER IS...  12_3_20--Sz8P58Qp30.mp4\n",
      "TODAY'S NUMBER IS...  12_4_20-rCC0hFioyQI.mp4\n",
      "TODAY'S NUMBER IS...  12_5_20-0bCMYJJXZLo.mp4\n",
      "TODAY'S NUMBER IS...  12_6_20-U1k-RG2UTFM.mp4\n",
      "TODAY'S NUMBER IS...  12_7_20-9jS56FUEaus.mp4\n",
      "TODAY'S NUMBER IS...  12_8_20-iD6RDALtPUk.mp4\n",
      "TODAY'S NUMBER IS...  12_9_20-Z73JIG8nJO4.mp4\n",
      "TODAY'S NUMBER IS...  1_10_21-JoCJfXkcZq8.mp4\n",
      "TODAY'S NUMBER IS...  1_11_21-tgaXtnQBC4M.mp4\n",
      "TODAY'S NUMBER IS...  1_12_21-QLfjQn9tISU.mp4\n",
      "TODAY'S NUMBER IS...  1_13_21-HFDGmSSCMyk.mp4\n",
      "TODAY'S NUMBER IS...  1_14_21-wLEtjHUwOGc.mp4\n",
      "TODAY'S NUMBER IS...  1_15_21-VlWASzEneH8.mp4\n",
      "TODAY'S NUMBER IS...  1_16_21-bZwO6G9RhwQ.mp4\n",
      "TODAY'S NUMBER IS...  1_17_21-CRoFSc4NlvQ.mp4\n",
      "TODAY'S NUMBER IS...  1_18_21-9fbAOHTUQK4.mp4\n",
      "TODAY'S NUMBER IS...  1_19_21-bZYQA4kykGw.mp4\n",
      "TODAY'S NUMBER IS...  1_1_21-glTlXWvItMk.mp4\n",
      "TODAY'S NUMBER IS...  1_21_21-3VzCgjC_4XI.mp4\n",
      "TODAY'S NUMBER IS...  1_22_21-BrHnNhfXaLo.mp4\n",
      "TODAY'S NUMBER IS...  1_23_21-Q0a-mlKM2x0.mp4\n",
      "TODAY'S NUMBER IS...  1_24_21-WZKTKO36wwg.mp4\n",
      "TODAY'S NUMBER IS...  1_25_21-LsZEi_9uW8k.mp4\n",
      "TODAY'S NUMBER IS...  1_26_21-HDfROSfZvs4.mp4\n",
      "TODAY'S NUMBER IS...  1_27_21-icCbXYlnm7k.mp4\n",
      "TODAY'S NUMBER IS...  1_29_21-nqu6OkIUp5E.mp4\n",
      "TODAY'S NUMBER IS...  1_2_21-bs2BNXOgTDM.mp4\n",
      "TODAY'S NUMBER IS...  1_30_21-Bow-MIcfGvM.mkv\n",
      "TODAY'S NUMBER IS...  1_31_21-lsK8pNA2z28.mp4\n",
      "TODAY'S NUMBER IS...  1_3_21-sQmrs0bhH4M.mp4\n",
      "TODAY'S NUMBER IS...  1_4_21-lkEfg0_2Qas.mp4\n",
      "TODAY'S NUMBER IS...  1_5_21-B4fkpGNlfiw.mp4\n",
      "TODAY'S NUMBER IS...  1_6_21-ZNOqR89s1tU.mp4\n",
      "TODAY'S NUMBER IS...  1_8_21-EvGfj1_3eX0.mp4\n",
      "TODAY'S NUMBER IS...  1_9_21-aZEARJNbQe4.mp4\n",
      "TODAY'S NUMBER IS...  2_10_21-1Arh3hNLerw.mp4\n",
      "TODAY'S NUMBER IS...  2_11_21-rJnwGFbc3tc.mp4\n",
      "TODAY'S NUMBER IS...  2_12_21-niUvjHs-tR0.mp4\n",
      "TODAY'S NUMBER IS...  2_13_21-yun-iK-qAZ0.mp4\n",
      "TODAY'S NUMBER IS...  2_14_21-zdhisHVq2iQ.mp4\n",
      "TODAY'S NUMBER IS...  2_15_21-4kddgIPtv2U.mp4\n",
      "TODAY'S NUMBER IS...  2_16_21-gwLLVZEuorA.mp4\n",
      "TODAY'S NUMBER IS...  2_17_21-xXTFrYQIw0E.mp4\n",
      "TODAY'S NUMBER IS...  2_18_21-Hs8dNG7HbMY.mp4\n",
      "TODAY'S NUMBER IS...  2_19_21-4wIa2NaEjT4.mp4\n",
      "TODAY'S NUMBER IS...  2_1_21-iv88iMdgeVg.mkv\n",
      "TODAY'S NUMBER IS...  2_20_21-YtUZ0j6eWP8.mp4\n",
      "TODAY'S NUMBER IS...  2_21_21-QMiiDMeRv8A.mp4\n",
      "TODAY'S NUMBER IS...  2_22_21-8hY5jcSasYo.mp4\n",
      "TODAY'S NUMBER IS...  2_23_21-ZOWf0h_Zes8.mp4\n",
      "TODAY'S NUMBER IS...  2_24_21-4AZFBRMB690.mp4\n",
      "TODAY'S NUMBER IS...  2_25_21-pZKmNML0WTc.mp4\n",
      "TODAY'S NUMBER IS...  2_26_21-7x2O2-wKAR0.mp4\n",
      "TODAY'S NUMBER IS...  2_27_21-BV4DZ1HNqHA.mp4\n",
      "TODAY'S NUMBER IS...  2_28_21-F3AEktEVI2s.mp4\n",
      "TODAY'S NUMBER IS...  2_2_21-tFXrNYhwWK4.mp4\n",
      "TODAY'S NUMBER IS...  2_3_21-t6Cp1dLZfhg.mp4\n",
      "TODAY'S NUMBER IS...  2_4_21-qRGtKdZfshE.mp4\n",
      "TODAY'S NUMBER IS...  2_5_21-giLsyl9Hq4I.mp4\n",
      "TODAY'S NUMBER IS...  2_6_21-QJDU1CwdIyE.mkv\n",
      "TODAY'S NUMBER IS...  2_7_21-fgmS521_hd4.mkv\n",
      "TODAY'S NUMBER IS...  2_8_21-_HNHuPq9aiY.mp4\n",
      "TODAY'S NUMBER IS...  2_9_21-ftt9hPK6PKo.mp4\n",
      "TODAY'S NUMBER IS...  3_10_21-Uc15K3sNRH8.mp4\n",
      "TODAY'S NUMBER IS...  3_11_21-3Hqzrw2NYfo.mp4\n",
      "TODAY'S NUMBER IS...  3_12_21-H0jhJIN0MKU.mp4\n",
      "TODAY'S NUMBER IS...  3_13_21-d_QKf8gaBds.mp4\n",
      "TODAY'S NUMBER IS...  3_14_21-NVyZmyWeGBQ.mp4\n",
      "TODAY'S NUMBER IS...  3_15_21-8k1-EHR5yEA.mp4\n",
      "TODAY'S NUMBER IS...  3_16_21-XJTsMu2rDPM.mp4\n",
      "TODAY'S NUMBER IS...  3_17_21-v7B6oyVmkTU.mp4\n",
      "TODAY'S NUMBER IS...  3_18_21-QJw9wFO3PmI.mp4\n",
      "TODAY'S NUMBER IS...  3_19_21-ey9Nc0u4__E.mp4\n",
      "TODAY'S NUMBER IS...  3_1_21-E7w35qDOmG8.mp4\n",
      "TODAY'S NUMBER IS...  3_20_21-gMXVFtIJvbQ.mp4\n",
      "TODAY'S NUMBER IS...  3_21_21-2qzRVRySFBk.mp4\n",
      "TODAY'S NUMBER IS...  3_22_21-Y-D9zN-BZ3k.mp4\n",
      "TODAY'S NUMBER IS...  3_24_21-g1Wv00HeYII.mp4\n",
      "TODAY'S NUMBER IS...  3_26_21-koYWvuF6jHY.mp4\n",
      "TODAY'S NUMBER IS...  3_27_21-ZD7jKwZ0KXE.mp4\n",
      "TODAY'S NUMBER IS...  3_28_21-iyJhrT-4a-s.mp4\n",
      "TODAY'S NUMBER IS...  3_29_21-P5oi9nn8aPU.mp4\n",
      "TODAY'S NUMBER IS...  3_2_21-42__f5eR9yg.mp4\n",
      "TODAY'S NUMBER IS...  3_30_21-0atLM5DFdWM.mp4\n",
      "TODAY'S NUMBER IS...  3_31_21-xS5mjPnf1A4.mp4\n",
      "TODAY'S NUMBER IS...  3_3_21-hLXEm-lJxvU.mp4\n",
      "TODAY'S NUMBER IS...  3_4_21-nizPMJj1hns.mp4\n",
      "TODAY'S NUMBER IS...  3_5_21-PrYHUJ3fbNk.mp4\n",
      "TODAY'S NUMBER IS...  3_6_21-v89r0q8HgpU.mp4\n",
      "TODAY'S NUMBER IS...  3_7_21-0El1WkAPGGE.mp4\n",
      "TODAY'S NUMBER IS...  3_8_21-p19LCnzW-Dk.mp4\n",
      "TODAY'S NUMBER IS...  3_9_21-nw1SQodF5_E.mp4\n",
      "TODAY'S NUMBER IS...  4_10_21-Fyor-fH8tgo.mp4\n",
      "TODAY'S NUMBER IS...  4_11_21-IjMPIPmHYa0.mp4\n",
      "TODAY'S NUMBER IS...  4_12_21-EM_n0puYXeo.mp4\n",
      "TODAY'S NUMBER IS...  4_13_21-DXVLec5ZMSE.mp4\n",
      "TODAY'S NUMBER IS...  4_14_21-p06BKLueMo8.mp4\n",
      "TODAY'S NUMBER IS...  4_15_21-eQQYwyYaHBw.mp4\n",
      "TODAY'S NUMBER IS...  4_16_21-ICZFln8qzVQ.mp4\n",
      "TODAY'S NUMBER IS...  4_17_21-kp4xPT7JxFU.mp4\n",
      "TODAY'S NUMBER IS...  4_18_21-I5ZF-C4Vs1I.mp4\n"
     ]
    },
    {
     "name": "stdout",
     "output_type": "stream",
     "text": [
      "C:\\Users\\Stijn\\Code\\todays number\\frames\\244_frame.jpg\n"
     ]
    },
    {
     "ename": "NameError",
     "evalue": "name 'i' is not defined",
     "output_type": "error",
     "traceback": [
      "\u001b[1;31m---------------------------------------------------------------------------\u001b[0m",
      "\u001b[1;31mNameError\u001b[0m                                 Traceback (most recent call last)",
      "\u001b[1;32m<ipython-input-24-9946058d6ec7>\u001b[0m in \u001b[0;36m<module>\u001b[1;34m\u001b[0m\n\u001b[0;32m     35\u001b[0m             \u001b[0msuccess\u001b[0m\u001b[1;33m,\u001b[0m \u001b[0mimage\u001b[0m \u001b[1;33m=\u001b[0m \u001b[0mvidcap\u001b[0m\u001b[1;33m.\u001b[0m\u001b[0mread\u001b[0m\u001b[1;33m(\u001b[0m\u001b[1;33m)\u001b[0m\u001b[1;33m\u001b[0m\u001b[1;33m\u001b[0m\u001b[0m\n\u001b[0;32m     36\u001b[0m             \u001b[0mcount\u001b[0m \u001b[1;33m+=\u001b[0m \u001b[1;36m1\u001b[0m\u001b[1;33m\u001b[0m\u001b[1;33m\u001b[0m\u001b[0m\n\u001b[1;32m---> 37\u001b[1;33m         \u001b[0mi\u001b[0m \u001b[1;33m+=\u001b[0m \u001b[1;36m1\u001b[0m\u001b[1;33m\u001b[0m\u001b[1;33m\u001b[0m\u001b[0m\n\u001b[0m\u001b[0;32m     38\u001b[0m \u001b[0mprint\u001b[0m\u001b[1;33m(\u001b[0m\u001b[0mi\u001b[0m\u001b[1;33m)\u001b[0m\u001b[1;33m\u001b[0m\u001b[1;33m\u001b[0m\u001b[0m\n",
      "\u001b[1;31mNameError\u001b[0m: name 'i' is not defined"
     ]
    }
   ],
   "source": [
    "# for file in os.listdir(PATH0+\"\\\\vids\"):\n",
    "#     date_name = [int(i) for i in file.split(' ')[-1].split('-')[0].split('_')]\n",
    "#     time_edit = os.path.getmtime(PATH0+\"\\\\vids\\\\\"+file)\n",
    "#     date_file = datetime.date.fromtimestamp(time_edit)\n",
    "#     if date_file.month == date_name[0] and date_file.day == date_name[1] and date_file.year -2000 == date_name[2]:\n",
    "#         print(\" \")\n",
    "        \n",
    "#     else:\n",
    "#         print(\"ohno\")\n",
    "#         print(datetime.date.fromtimestamp(time_edit))\n",
    "#         print(file.split(' ')[-1].split('-')[0].split('_'))\n",
    "def date2number(file):\n",
    "    date_name = [int(i) for i in file.split(' ')[-1].split('-')[0].split('_')]\n",
    "    date = datetime.date(date_name[2]+2000,date_name[0],date_name[1])\n",
    "#     print((date - startdate).days)\n",
    "    return str((date - startdate).days)\n",
    "\n",
    "def findframes():\n",
    "    for file in os.listdir(PATH0+\"\\\\vids\"):\n",
    "        print(file)\n",
    "        count = 900\n",
    "        if date2number(file)+\"_frame.jpg\" not in os.listdir(PATH0+\"\\\\frames\"):\n",
    "            vidcap = cv2.VideoCapture(PATH0 + '\\\\vids\\\\' + file)\n",
    "            vidcap.set(cv2.CAP_PROP_POS_FRAMES,count)\n",
    "            success,image = vidcap.read()\n",
    "            color = image.mean()\n",
    "            while success:\n",
    "                if color > 10 and image.mean() < 1:\n",
    "                    breakpoint = count - 5\n",
    "                    vidcap.set(cv2.CAP_PROP_POS_FRAMES,breakpoint)\n",
    "                    success, image = vidcap.read()\n",
    "                    print(PATH0 + '\\\\frames\\\\' + date2number(file) +\"_frame.jpg\")\n",
    "                    cv2.imwrite(PATH0 + '\\\\frames\\\\' + date2number(file) +\"_frame.jpg\", image)\n",
    "                    break \n",
    "                color = image.mean()\n",
    "                success, image = vidcap.read()\n",
    "                count += 1\n",
    "            i += 1"
   ]
  },
  {
   "cell_type": "code",
   "execution_count": 27,
   "metadata": {},
   "outputs": [],
   "source": [
    "def big_move(n):\n",
    "    t=datetime.date(2020,8,17)\n",
    "    dates = []\n",
    "    for x in l:\n",
    "        if x == n:\n",
    "            print(t)\n",
    "            dates.append(str(t.month) + '_' + str(t.day) + '_' + str(t.year)[2:])\n",
    "        t=t+datetime.timedelta(days=1)\n",
    "    for file in os.listdir(PATH):\n",
    "        for date in dates:\n",
    "            if date in file:\n",
    "                shutil.move(PATH+\"\\\\\"+file, PATH+\"\\\\\"+numbers[n-1]+\"\\\\vids\\\\\"+file)\n",
    "    \n",
    "# PATH = PATH+\"\\\\\"+numbers[n]"
   ]
  },
  {
   "cell_type": "code",
   "execution_count": 13,
   "metadata": {},
   "outputs": [
    {
     "name": "stdout",
     "output_type": "stream",
     "text": [
      "246\n"
     ]
    }
   ],
   "source": [
    "print(date2number(\"TODAY'S NUMBER IS...  4_19_21-l7ierJVx4q8.en.vtt\"))"
   ]
  },
  {
   "cell_type": "code",
   "execution_count": 8,
   "metadata": {},
   "outputs": [
    {
     "name": "stdout",
     "output_type": "stream",
     "text": [
      "5\n"
     ]
    }
   ],
   "source": [
    "n = 2\n",
    "print(int(np.ceil(len(os.listdir(PATH0+\"\\\\\"+numbers[n-1]+\"\\\\frames\\\\\"))**(0.5))))\n",
    "cols, rows = 5,5\n",
    "# thumb_width = int(1920/max(cols,rows))\n",
    "# thumb_height = int(1080/max(cols,rows))\n",
    "# new_im= Image.new(\"RGB\",(int(1920/max(cols,rows)*cols),int(1080/max(cols,rows)*rows)))\n",
    "# ims = []\n",
    "# x, y, i = 0, 0, 0\n",
    "# for file in os.listdir(PATH0+\"\\\\\"+numbers[n-1]+\"\\\\frames\\\\\"):\n",
    "#     im=Image.open(PATH0+\"\\\\\"+numbers[n-1]+\"\\\\frames\\\\\"+file)\n",
    "#     ims.append(im.resize((thumb_width, thumb_height)))\n",
    "# for col in range(cols):\n",
    "#     for row in range(rows):\n",
    "#         new_im.paste(ims[i], (x, y))\n",
    "#         y+=thumb_height\n",
    "#         i+=1\n",
    "#     y=0\n",
    "#     x+=thumb_width\n",
    "# new_im.save(PATH0+\"\\\\\"+numbers[n-1]+\"\\\\ten.jpg\")"
   ]
  },
  {
   "cell_type": "code",
   "execution_count": 14,
   "metadata": {},
   "outputs": [
    {
     "name": "stdout",
     "output_type": "stream",
     "text": [
      "6.0 2\n"
     ]
    },
    {
     "data": {
      "text/plain": [
       "[<matplotlib.lines.Line2D at 0x1b4fcb6b888>]"
      ]
     },
     "execution_count": 14,
     "metadata": {},
     "output_type": "execute_result"
    },
    {
     "data": {
      "image/png": "[encoded data removed]",
      "text/plain": [
       "<Figure size 432x288 with 1 Axes>"
      ]
     },
     "metadata": {
      "needs_background": "light"
     },
     "output_type": "display_data"
    }
   ],
   "source": [
    "i=0\n",
    "avg=0\n",
    "averages = []\n",
    "days = []\n",
    "for n in l:\n",
    "    avg=(i*avg+n)/(i+1)\n",
    "    averages.append(avg)\n",
    "    days.append(i)\n",
    "    if avg<5.5:\n",
    "        print(i,n)\n",
    "    i+=1.\n",
    "plt.plot(days, averages)"
   ]
  },
  {
   "cell_type": "code",
   "execution_count": 48,
   "metadata": {},
   "outputs": [
    {
     "name": "stdout",
     "output_type": "stream",
     "text": [
      "1 one 6 TODAY'S NUMBER IS...  10_7_20-Ift8kx60uX0.en.vtt 51\n",
      "nine 9 TODAY'S NUMBER IS...  9_16_20-rnoHh9Y6Bnc.en.vtt 30\n",
      "nine 8 TODAY'S NUMBER IS... 8_17_20-W-3MP27IU-I.en.vtt 0\n",
      "1 one 9 TODAY'S NUMBER IS... 8_19_20-MAwvq4MAMfw.en.vtt 2\n",
      "10 10\n"
     ]
    }
   ],
   "source": [
    "todaysnumbers={}\n",
    "for file in os.listdir(PATH0+\"\\\\subs\"):\n",
    "    seths_number = l[int(date2number(file))]\n",
    "    with open(PATH0+\"\\\\subs\\\\\"+file) as f:\n",
    "        subs = f.read()[-200:-100]\n",
    "        found = False\n",
    "        for i in range(1,10):\n",
    "            n = number[i]\n",
    "            if subs.find(n) != -1:\n",
    "                todaysnumber = i\n",
    "                if i != seths_number:\n",
    "                    print(i, n,seths_number,file,int(date2number(file)))\n",
    "                found = True\n",
    "        if found == False:\n",
    "            todaysnumber = 10\n",
    "        if found == False and 10 != seths_number:\n",
    "            print(n,seths_number,file,int(date2number(file)))\n",
    "    todaysnumbers[int(date2number(file))]=todaysnumber\n",
    "np.save('todaysnumbers', todaysnumbers) \n",
    "\n",
    "# Load\n",
    "read_dictionary = np.load('todaysnumbers.npy',allow_pickle=True).item()\n",
    "print(read_dictionary[100],todaysnumbers[100])"
   ]
  },
  {
   "cell_type": "code",
   "execution_count": 53,
   "metadata": {},
   "outputs": [
    {
     "name": "stdout",
     "output_type": "stream",
     "text": [
      "99 9\n",
      "6 9\n"
     ]
    }
   ],
   "source": [
    "for file in os.listdir(PATH0+\"\\\\vids\"):\n",
    "    daynumb=int(date2number(file))\n",
    "    insubs=False\n",
    "    for file2 in os.listdir(PATH0+\"\\\\subs\"):\n",
    "        daynumb2=int(date2number(file2))\n",
    "        if daynumb == daynumb2:\n",
    "            insubs=True\n",
    "    if insubs==False:\n",
    "        print(daynumb,l[daynumb])"
   ]
  },
  {
   "cell_type": "code",
   "execution_count": null,
   "metadata": {},
   "outputs": [],
   "source": []
  }
 ],
 "metadata": {
  "kernelspec": {
   "display_name": "Python 3",
   "language": "python",
   "name": "python3"
  },
  "language_info": {
   "codemirror_mode": {
    "name": "ipython",
    "version": 3
   },
   "file_extension": ".py",
   "mimetype": "text/x-python",
   "name": "python",
   "nbconvert_exporter": "python",
   "pygments_lexer": "ipython3",
   "version": "3.8.2"
  }
 },
 "nbformat": 4,
 "nbformat_minor": 4
}
